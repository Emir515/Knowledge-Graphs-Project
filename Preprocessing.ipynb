{
 "cells": [
  {
   "cell_type": "markdown",
   "id": "46cea51c",
   "metadata": {},
   "source": [
    "# Preprocessing the Datasets\n"
   ]
  },
  {
   "cell_type": "markdown",
   "id": "2702b3d7",
   "metadata": {},
   "source": [
    "## Libraries"
   ]
  },
  {
   "cell_type": "markdown",
   "id": "bbcd6105",
   "metadata": {},
   "source": [
    "Libraries to complete the preprocessing part"
   ]
  },
  {
   "cell_type": "code",
   "execution_count": 87,
   "id": "c4b97381",
   "metadata": {},
   "outputs": [],
   "source": [
    "import pandas as pd\n",
    "import os"
   ]
  },
  {
   "cell_type": "markdown",
   "id": "fe553d83",
   "metadata": {},
   "source": [
    "Files that are going to be used for the rest of the project"
   ]
  },
  {
   "cell_type": "code",
   "execution_count": null,
   "id": "87b63910",
   "metadata": {},
   "outputs": [],
   "source": [
    "extot_path = \"Datasets/Raw/estat_tour_dem_extot.tsv\" # Path to the extot dataset, which contains total tourist arrivals data.\n",
    "tnage_path = \"Datasets/Raw/estat_tour_dem_tnage.tsv\" # Path to the tnage dataset, which contains tourist arrivals data by age group.\n",
    "ttsex_path = \"Datasets/Raw/estat_tour_dem_ttsex.tsv\" # Path to the ttsex dataset, which contains tourist arrivals data by sex.\n",
    "path = \"Datasets\""
   ]
  },
  {
   "cell_type": "code",
   "execution_count": 89,
   "id": "0a6d297b",
   "metadata": {},
   "outputs": [],
   "source": [
    "extot_raw = pd.read_csv(extot_path, sep=\"\\t\")\n",
    "tnage_raw = pd.read_csv(tnage_path, sep=\"\\t\")\n",
    "ttsex_raw = pd.read_csv(ttsex_path, sep=\"\\t\")\n",
    "extot = extot_raw.copy()\n",
    "tnage = tnage_raw.copy()\n",
    "ttsex = ttsex_raw.copy()"
   ]
  },
  {
   "cell_type": "markdown",
   "id": "e513dac4",
   "metadata": {},
   "source": [
    "Shape of the dataset"
   ]
  },
  {
   "cell_type": "code",
   "execution_count": 90,
   "id": "d4882ae4",
   "metadata": {},
   "outputs": [
    {
     "name": "stdout",
     "output_type": "stream",
     "text": [
      "ttsex: (4679, 13)\n",
      "extot: (31989, 13)\n",
      "tnage: (14221, 13)\n"
     ]
    }
   ],
   "source": [
    "print(\"ttsex:\", ttsex_raw.shape)\n",
    "print(\"extot:\", extot_raw.shape)\n",
    "print(\"tnage:\", tnage_raw.shape)"
   ]
  },
  {
   "cell_type": "markdown",
   "id": "5afca34a",
   "metadata": {},
   "source": [
    "As we can see, the datasets are quite large. We will need to preprocess them to make them more manageable and suitable for analysis."
   ]
  },
  {
   "cell_type": "code",
   "execution_count": 91,
   "id": "2c9bd217",
   "metadata": {},
   "outputs": [
    {
     "name": "stdout",
     "output_type": "stream",
     "text": [
      "\n",
      "Head of extot:\n",
      "  freq,purpose,duration,c_dest,expend,statinfo,unit,geo\\TIME_PERIOD   2012   \\\n",
      "0                A,PER,N1-3,DOM,ACCOM,AVG_NGT,EUR,AL                     :    \n",
      "1                A,PER,N1-3,DOM,ACCOM,AVG_NGT,EUR,AT                 66.02    \n",
      "2                A,PER,N1-3,DOM,ACCOM,AVG_NGT,EUR,BE                 36.76    \n",
      "3                A,PER,N1-3,DOM,ACCOM,AVG_NGT,EUR,BG                 4.58 b   \n",
      "4                A,PER,N1-3,DOM,ACCOM,AVG_NGT,EUR,CH                 39.76    \n",
      "\n",
      "    2013    2014    2015    2016     2017    2018    2019    2020    2021   \\\n",
      "0      :       :       :       :     2.38       :    3.88    9.51       :    \n",
      "1  50.64   46.01   51.48   54.07    55.03   56.24   56.22   51.82   50.29    \n",
      "2  39.50   37.12   37.13   34.41   39.76 b  34.96   37.88   37.23   40.52    \n",
      "3   5.42    6.66    6.40    6.41     5.85    5.60    8.66    9.62   12.74    \n",
      "4  47.91   46.39   53.58   52.03    53.80   52.26   55.43   60.78   70.47    \n",
      "\n",
      "    2022    2023   \n",
      "0      :       :   \n",
      "1  57.58   67.50   \n",
      "2  44.16   48.16   \n",
      "3  16.82   18.54   \n",
      "4  72.51       :   \n",
      "\n",
      "Head of tnage:\n",
      "  freq,purpose,c_dest,duration,age,unit,geo\\TIME_PERIOD     2012      2013   \\\n",
      "0                        A,PER,DOM,N1-3,Y15-24,NR,AL           :         :    \n",
      "1                        A,PER,DOM,N1-3,Y15-24,NR,AT     1716783   1881068    \n",
      "2                        A,PER,DOM,N1-3,Y15-24,NR,BE     194617 u   287394    \n",
      "3                        A,PER,DOM,N1-3,Y15-24,NR,BG     989104 b   881981    \n",
      "4                        A,PER,DOM,N1-3,Y15-24,NR,CH     958967 u  799593 u   \n",
      "\n",
      "      2014      2015       2016      2017      2018      2019       2020   \\\n",
      "0        :         :          :    815878         :    773740     486390    \n",
      "1  1711578   1577217    1956490   1837386   1871739   2044466    1543619    \n",
      "2   194586    378535     214340   409604 b   520075    535349     513967    \n",
      "3   691500    467668     475164    911906    733618    631363     352139    \n",
      "4  694026 u  856549 u  1007354 u  666201 u  456367 u  898414 u  1169447 u   \n",
      "\n",
      "       2021       2022      2023   \n",
      "0         :          :         :   \n",
      "1   1889960    2886705   2207345   \n",
      "2    698793     617141    507323   \n",
      "3    457406     491589    563691   \n",
      "4  1211978 u  1633178 u        :   \n",
      "\n",
      "Head of ttsex:\n",
      "  freq,c_dest,purpose,duration,sex,unit,geo\\TIME_PERIOD      2012      2013   \\\n",
      "0                             A,DOM,PER,N1-3,F,NR,AL            :         :    \n",
      "1                             A,DOM,PER,N1-3,F,NR,AT      3155661   3417521    \n",
      "2                             A,DOM,PER,N1-3,F,NR,BE       756712    907695    \n",
      "3                             A,DOM,PER,N1-3,F,NR,BG     1029215 b   953716    \n",
      "4                             A,DOM,PER,N1-3,F,NR,CH      2156668   2350827    \n",
      "\n",
      "      2014      2015      2016       2017      2018      2019      2020   \\\n",
      "0        :         :         :    1213286         :   1424643    938050    \n",
      "1  3616832   3465207   3716126    3505223   3874006   4113956   3406028    \n",
      "2   742464   1152356    938572   1118499 b  1281495   1487201   1177284    \n",
      "3   931887    703343    832847    1377737   1188827   1101915    610053    \n",
      "4  2072561   2415184   1950026    2213164   1973983   2113764   2120157    \n",
      "\n",
      "      2021      2022      2023   \n",
      "0        :         :         :   \n",
      "1  3551574   4595712   5003122   \n",
      "2  1953238   1735640   1763599   \n",
      "3   838263   1048829   1045056   \n",
      "4  2734816   2236541         :   \n"
     ]
    }
   ],
   "source": [
    "print(\"\\nHead of extot:\")\n",
    "print(extot_raw.head())\n",
    "\n",
    "print(\"\\nHead of tnage:\")\n",
    "print(tnage_raw.head())\n",
    "\n",
    "print(\"\\nHead of ttsex:\")\n",
    "print(ttsex_raw.head())"
   ]
  },
  {
   "cell_type": "code",
   "execution_count": 92,
   "id": "5d8c0458",
   "metadata": {},
   "outputs": [],
   "source": [
    "def split_dimensions(df):\n",
    "    first_col = df.columns[0]\n",
    "    dims = first_col.split(\",\")\n",
    "    df[dims] = df[first_col].str.split(\",\", expand=True)\n",
    "    df = df.drop(columns=[first_col])\n",
    "    return df, dims"
   ]
  },
  {
   "cell_type": "code",
   "execution_count": 93,
   "id": "018b1088",
   "metadata": {},
   "outputs": [],
   "source": [
    "ttsex, dims_ttsex = split_dimensions(ttsex_raw)\n",
    "extot, dims_extot = split_dimensions(extot_raw)\n",
    "tnage, dims_tnage = split_dimensions(tnage_raw)"
   ]
  },
  {
   "cell_type": "code",
   "execution_count": 94,
   "id": "654a6354",
   "metadata": {},
   "outputs": [
    {
     "name": "stdout",
     "output_type": "stream",
     "text": [
      "Dims (ttsex): ['freq', 'c_dest', 'purpose', 'duration', 'sex', 'unit', 'geo\\\\TIME_PERIOD']\n",
      "Dims (extot): ['freq', 'purpose', 'duration', 'c_dest', 'expend', 'statinfo', 'unit', 'geo\\\\TIME_PERIOD']\n",
      "Dims (tnage): ['freq', 'purpose', 'c_dest', 'duration', 'age', 'unit', 'geo\\\\TIME_PERIOD']\n"
     ]
    }
   ],
   "source": [
    "print(\"Dims (ttsex):\", dims_ttsex)\n",
    "print(\"Dims (extot):\", dims_extot)\n",
    "print(\"Dims (tnage):\", dims_tnage)\n"
   ]
  },
  {
   "cell_type": "code",
   "execution_count": 95,
   "id": "ce4b4cb9",
   "metadata": {},
   "outputs": [],
   "source": [
    "def melt_long(df, dims):\n",
    "    df_long = df.melt(id_vars=dims, var_name=\"year\", value_name=\"value\")\n",
    "    return df_long"
   ]
  },
  {
   "cell_type": "code",
   "execution_count": 96,
   "id": "d9773c46",
   "metadata": {},
   "outputs": [
    {
     "data": {
      "text/html": [
       "<div>\n",
       "<style scoped>\n",
       "    .dataframe tbody tr th:only-of-type {\n",
       "        vertical-align: middle;\n",
       "    }\n",
       "\n",
       "    .dataframe tbody tr th {\n",
       "        vertical-align: top;\n",
       "    }\n",
       "\n",
       "    .dataframe thead th {\n",
       "        text-align: right;\n",
       "    }\n",
       "</style>\n",
       "<table border=\"1\" class=\"dataframe\">\n",
       "  <thead>\n",
       "    <tr style=\"text-align: right;\">\n",
       "      <th></th>\n",
       "      <th>freq</th>\n",
       "      <th>c_dest</th>\n",
       "      <th>purpose</th>\n",
       "      <th>duration</th>\n",
       "      <th>sex</th>\n",
       "      <th>unit</th>\n",
       "      <th>geo\\TIME_PERIOD</th>\n",
       "      <th>year</th>\n",
       "      <th>value</th>\n",
       "    </tr>\n",
       "  </thead>\n",
       "  <tbody>\n",
       "    <tr>\n",
       "      <th>0</th>\n",
       "      <td>A</td>\n",
       "      <td>DOM</td>\n",
       "      <td>PER</td>\n",
       "      <td>N1-3</td>\n",
       "      <td>F</td>\n",
       "      <td>NR</td>\n",
       "      <td>AL</td>\n",
       "      <td>2012</td>\n",
       "      <td>:</td>\n",
       "    </tr>\n",
       "    <tr>\n",
       "      <th>1</th>\n",
       "      <td>A</td>\n",
       "      <td>DOM</td>\n",
       "      <td>PER</td>\n",
       "      <td>N1-3</td>\n",
       "      <td>F</td>\n",
       "      <td>NR</td>\n",
       "      <td>AT</td>\n",
       "      <td>2012</td>\n",
       "      <td>3155661</td>\n",
       "    </tr>\n",
       "    <tr>\n",
       "      <th>2</th>\n",
       "      <td>A</td>\n",
       "      <td>DOM</td>\n",
       "      <td>PER</td>\n",
       "      <td>N1-3</td>\n",
       "      <td>F</td>\n",
       "      <td>NR</td>\n",
       "      <td>BE</td>\n",
       "      <td>2012</td>\n",
       "      <td>756712</td>\n",
       "    </tr>\n",
       "    <tr>\n",
       "      <th>3</th>\n",
       "      <td>A</td>\n",
       "      <td>DOM</td>\n",
       "      <td>PER</td>\n",
       "      <td>N1-3</td>\n",
       "      <td>F</td>\n",
       "      <td>NR</td>\n",
       "      <td>BG</td>\n",
       "      <td>2012</td>\n",
       "      <td>1029215 b</td>\n",
       "    </tr>\n",
       "    <tr>\n",
       "      <th>4</th>\n",
       "      <td>A</td>\n",
       "      <td>DOM</td>\n",
       "      <td>PER</td>\n",
       "      <td>N1-3</td>\n",
       "      <td>F</td>\n",
       "      <td>NR</td>\n",
       "      <td>CH</td>\n",
       "      <td>2012</td>\n",
       "      <td>2156668</td>\n",
       "    </tr>\n",
       "  </tbody>\n",
       "</table>\n",
       "</div>"
      ],
      "text/plain": [
       "  freq c_dest purpose duration sex unit geo\\TIME_PERIOD   year      value\n",
       "0    A    DOM     PER     N1-3   F   NR              AL  2012          : \n",
       "1    A    DOM     PER     N1-3   F   NR              AT  2012    3155661 \n",
       "2    A    DOM     PER     N1-3   F   NR              BE  2012     756712 \n",
       "3    A    DOM     PER     N1-3   F   NR              BG  2012   1029215 b\n",
       "4    A    DOM     PER     N1-3   F   NR              CH  2012    2156668 "
      ]
     },
     "execution_count": 96,
     "metadata": {},
     "output_type": "execute_result"
    }
   ],
   "source": [
    "ttsex_long = melt_long(ttsex, dims_ttsex)\n",
    "extot_long = melt_long(extot, dims_extot)\n",
    "tnage_long = melt_long(tnage, dims_tnage)\n",
    "\n",
    "ttsex_long.head()"
   ]
  },
  {
   "cell_type": "markdown",
   "id": "15cc62fd",
   "metadata": {},
   "source": [
    "Cleaning numeric values (remove flags like 'b', 'u', 'p')\n"
   ]
  },
  {
   "cell_type": "code",
   "execution_count": 97,
   "id": "f8f38f02",
   "metadata": {},
   "outputs": [],
   "source": [
    "def clean_values(df):\n",
    "    df[\"value\"] = df[\"value\"].astype(str).str.replace(r\"[^0-9.]\", \"\", regex=True)\n",
    "    df[\"value\"] = pd.to_numeric(df[\"value\"], errors=\"coerce\")\n",
    "    return df.dropna(subset=[\"value\"])"
   ]
  },
  {
   "cell_type": "code",
   "execution_count": 98,
   "id": "374f1ba1",
   "metadata": {},
   "outputs": [],
   "source": [
    "ttsex_clean = clean_values(ttsex_long)\n",
    "extot_clean = clean_values(extot_long)\n",
    "tnage_clean = clean_values(tnage_long)\n"
   ]
  },
  {
   "cell_type": "markdown",
   "id": "5af67801",
   "metadata": {},
   "source": [
    "Standardize column names\n"
   ]
  },
  {
   "cell_type": "code",
   "execution_count": 99,
   "id": "c002d8fd",
   "metadata": {},
   "outputs": [],
   "source": [
    "def clean_columns(df):\n",
    "    df.columns = (\n",
    "        df.columns.str.strip()\n",
    "        .str.lower()\n",
    "        .str.replace(\" \", \"_\", regex=False)\n",
    "        .str.replace(\"/\", \"_\", regex=False)\n",
    "    )\n",
    "    return df\n"
   ]
  },
  {
   "cell_type": "code",
   "execution_count": 100,
   "id": "812a87e1",
   "metadata": {},
   "outputs": [],
   "source": [
    "ttsex_clean = clean_columns(ttsex_clean)\n",
    "extot_clean = clean_columns(extot_clean)\n",
    "tnage_clean = clean_columns(tnage_clean)\n"
   ]
  },
  {
   "cell_type": "markdown",
   "id": "88827bf3",
   "metadata": {},
   "source": [
    "Here we save separate the cleaned datasets to make them proper for the rest of the project (for Neo4j KG import)\n"
   ]
  },
  {
   "cell_type": "code",
   "execution_count": 101,
   "id": "18e85f3d",
   "metadata": {},
   "outputs": [
    {
     "name": "stdout",
     "output_type": "stream",
     "text": [
      "✅ Separate cleaned datasets saved for Neo4j:\n",
      " - extot_clean.csv\n",
      " - ttsex_clean.csv\n",
      " - tnage_clean.csv\n"
     ]
    }
   ],
   "source": [
    "processed_path = os.path.join(path, \"processed\")\n",
    "os.makedirs(processed_path, exist_ok=True)\n",
    "\n",
    "extot_clean.to_csv(os.path.join(processed_path, \"extot_clean.csv\"), index=False)\n",
    "ttsex_clean.to_csv(os.path.join(processed_path, \"ttsex_clean.csv\"), index=False)\n",
    "tnage_clean.to_csv(os.path.join(processed_path, \"tnage_clean.csv\"), index=False)\n",
    "\n",
    "print(\"✅ Separate cleaned datasets saved for Neo4j:\")\n",
    "print(\" - extot_clean.csv\")\n",
    "print(\" - ttsex_clean.csv\")\n",
    "print(\" - tnage_clean.csv\")\n"
   ]
  },
  {
   "cell_type": "markdown",
   "id": "3c12bd45",
   "metadata": {},
   "source": [
    "I also create a dataset that combines all."
   ]
  },
  {
   "cell_type": "code",
   "execution_count": 102,
   "id": "8d42fa62",
   "metadata": {},
   "outputs": [
    {
     "name": "stdout",
     "output_type": "stream",
     "text": [
      "Common merge keys: ['unit', 'c_dest', 'year', 'duration', 'geo\\\\time_period', 'freq', 'purpose']\n",
      "✅ Merged dataset for ML saved as tourism_merged.csv\n",
      "Merged dataset shape: (499442, 14)\n",
      "  freq purpose duration c_dest expend statinfo unit geo\\time_period   year  \\\n",
      "0    A     PER     N1-3    DOM  ACCOM  AVG_NGT  EUR              AT  2012    \n",
      "1    A     PER     N1-3    DOM  ACCOM  AVG_TRP  EUR              AT  2012    \n",
      "2    A     PER     N1-3    DOM  ACCOM    TOTAL  EUR              AT  2012    \n",
      "3    A     PER     N1-3    DOM    DUR  AVG_NGT  EUR              AT  2012    \n",
      "4    A     PER     N1-3    DOM    DUR  AVG_TRP  EUR              AT  2012    \n",
      "\n",
      "   expenditure_value  sex  sex_value  age  age_value  \n",
      "0       6.602000e+01  NaN        NaN  NaN        NaN  \n",
      "1       1.327200e+02  NaN        NaN  NaN        NaN  \n",
      "2       7.667658e+08  NaN        NaN  NaN        NaN  \n",
      "3       1.670000e+00  NaN        NaN  NaN        NaN  \n",
      "4       3.360000e+00  NaN        NaN  NaN        NaN  \n"
     ]
    }
   ],
   "source": [
    "extot_ml = extot_clean.rename(columns={\"value\": \"expenditure_value\"})\n",
    "ttsex_ml = ttsex_clean.rename(columns={\"value\": \"sex_value\"})\n",
    "tnage_ml = tnage_clean.rename(columns={\"value\": \"age_value\"})\n",
    "\n",
    "common_keys = list(\n",
    "    set(extot_ml.columns) &\n",
    "    set(ttsex_ml.columns) &\n",
    "    set(tnage_ml.columns)\n",
    ")\n",
    "\n",
    "print(\"Common merge keys:\", common_keys)\n",
    "\n",
    "merged = extot_ml.merge(\n",
    "    ttsex_ml, on=common_keys, how=\"outer\", suffixes=(\"\", \"_sex\")\n",
    ")\n",
    "merged = merged.merge(\n",
    "    tnage_ml, on=common_keys, how=\"outer\", suffixes=(\"\", \"_age\")\n",
    ")\n",
    "\n",
    "# Save merged dataset\n",
    "merged.to_csv(os.path.join(processed_path, \"tourism_merged.csv\"), index=False)\n",
    "\n",
    "print(\"✅ Merged dataset for ML saved as tourism_merged.csv\")\n",
    "print(\"Merged dataset shape:\", merged.shape)\n",
    "print(merged.head())\n"
   ]
  },
  {
   "cell_type": "code",
   "execution_count": null,
   "id": "c4451f70",
   "metadata": {},
   "outputs": [],
   "source": []
  },
  {
   "cell_type": "code",
   "execution_count": null,
   "id": "164354b8",
   "metadata": {},
   "outputs": [],
   "source": []
  },
  {
   "cell_type": "code",
   "execution_count": null,
   "id": "35f5bb9f",
   "metadata": {},
   "outputs": [],
   "source": []
  },
  {
   "cell_type": "code",
   "execution_count": null,
   "id": "16f0fe84",
   "metadata": {},
   "outputs": [],
   "source": []
  },
  {
   "cell_type": "code",
   "execution_count": null,
   "id": "ba03c54b",
   "metadata": {},
   "outputs": [],
   "source": []
  }
 ],
 "metadata": {
  "kernelspec": {
   "display_name": "base",
   "language": "python",
   "name": "python3"
  },
  "language_info": {
   "codemirror_mode": {
    "name": "ipython",
    "version": 3
   },
   "file_extension": ".py",
   "mimetype": "text/x-python",
   "name": "python",
   "nbconvert_exporter": "python",
   "pygments_lexer": "ipython3",
   "version": "3.12.4"
  }
 },
 "nbformat": 4,
 "nbformat_minor": 5
}
