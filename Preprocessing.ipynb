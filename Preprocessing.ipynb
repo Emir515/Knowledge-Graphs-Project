{
 "cells": [
  {
   "cell_type": "markdown",
   "id": "46cea51c",
   "metadata": {},
   "source": [
    "# Preprocessing the Datasets\n"
   ]
  },
  {
   "cell_type": "markdown",
   "id": "2702b3d7",
   "metadata": {},
   "source": [
    "## Importing the Libraries"
   ]
  },
  {
   "cell_type": "code",
   "execution_count": 31,
   "id": "cf2a40b9",
   "metadata": {},
   "outputs": [],
   "source": [
    "import pandas as pd\n",
    "import os\n"
   ]
  },
  {
   "cell_type": "code",
   "execution_count": 32,
   "id": "0a6d297b",
   "metadata": {},
   "outputs": [],
   "source": [
    "# Load the uploaded TSV files\n",
    "extot_path = \"Datasets/Raw/estat_tour_dem_extot.tsv\"\n",
    "tnage_path = \"Datasets/Raw/estat_tour_dem_tnage.tsv\"\n",
    "ttsex_path = \"Datasets/Raw/estat_tour_dem_ttsex.tsv\"\n",
    "path = \"Datasets/\"\n",
    "# Load first few rows of each dataset\n",
    "extot_raw = pd.read_csv(extot_path, sep=\"\\t\")\n",
    "tnage_raw = pd.read_csv(tnage_path, sep=\"\\t\")\n",
    "ttsex_raw = pd.read_csv(ttsex_path, sep=\"\\t\")\n"
   ]
  },
  {
   "cell_type": "code",
   "execution_count": 33,
   "id": "d4882ae4",
   "metadata": {},
   "outputs": [
    {
     "name": "stdout",
     "output_type": "stream",
     "text": [
      "Shapes:\n",
      "ttsex: (4679, 13)\n",
      "extot: (31989, 13)\n",
      "tnage: (14221, 13)\n"
     ]
    }
   ],
   "source": [
    "\n",
    "print(\"Shapes:\")\n",
    "print(\"ttsex:\", ttsex_raw.shape)\n",
    "print(\"extot:\", extot_raw.shape)\n",
    "print(\"tnage:\", tnage_raw.shape)"
   ]
  },
  {
   "cell_type": "code",
   "execution_count": 34,
   "id": "5d8c0458",
   "metadata": {},
   "outputs": [
    {
     "name": "stdout",
     "output_type": "stream",
     "text": [
      "Dims (ttsex): ['freq', 'c_dest', 'purpose', 'duration', 'sex', 'unit', 'geo\\\\TIME_PERIOD']\n",
      "Dims (extot): ['freq', 'purpose', 'duration', 'c_dest', 'expend', 'statinfo', 'unit', 'geo\\\\TIME_PERIOD']\n",
      "Dims (tnage): ['freq', 'purpose', 'c_dest', 'duration', 'age', 'unit', 'geo\\\\TIME_PERIOD']\n"
     ]
    }
   ],
   "source": [
    "# === Split dimension column into multiple columns (Eurostat style) ===\n",
    "def split_dimensions(df):\n",
    "    first_col = df.columns[0]\n",
    "    dims = first_col.split(\",\")\n",
    "    df[dims] = df[first_col].str.split(\",\", expand=True)\n",
    "    df = df.drop(columns=[first_col])\n",
    "    return df, dims\n",
    "\n",
    "ttsex, dims_ttsex = split_dimensions(ttsex_raw)\n",
    "extot, dims_extot = split_dimensions(extot_raw)\n",
    "tnage, dims_tnage = split_dimensions(tnage_raw)\n",
    "\n",
    "print(\"Dims (ttsex):\", dims_ttsex)\n",
    "print(\"Dims (extot):\", dims_extot)\n",
    "print(\"Dims (tnage):\", dims_tnage)\n"
   ]
  },
  {
   "cell_type": "code",
   "execution_count": 35,
   "id": "ce4b4cb9",
   "metadata": {},
   "outputs": [
    {
     "data": {
      "text/html": [
       "<div>\n",
       "<style scoped>\n",
       "    .dataframe tbody tr th:only-of-type {\n",
       "        vertical-align: middle;\n",
       "    }\n",
       "\n",
       "    .dataframe tbody tr th {\n",
       "        vertical-align: top;\n",
       "    }\n",
       "\n",
       "    .dataframe thead th {\n",
       "        text-align: right;\n",
       "    }\n",
       "</style>\n",
       "<table border=\"1\" class=\"dataframe\">\n",
       "  <thead>\n",
       "    <tr style=\"text-align: right;\">\n",
       "      <th></th>\n",
       "      <th>freq</th>\n",
       "      <th>c_dest</th>\n",
       "      <th>purpose</th>\n",
       "      <th>duration</th>\n",
       "      <th>sex</th>\n",
       "      <th>unit</th>\n",
       "      <th>geo\\TIME_PERIOD</th>\n",
       "      <th>year</th>\n",
       "      <th>value</th>\n",
       "    </tr>\n",
       "  </thead>\n",
       "  <tbody>\n",
       "    <tr>\n",
       "      <th>0</th>\n",
       "      <td>A</td>\n",
       "      <td>DOM</td>\n",
       "      <td>PER</td>\n",
       "      <td>N1-3</td>\n",
       "      <td>F</td>\n",
       "      <td>NR</td>\n",
       "      <td>AL</td>\n",
       "      <td>2012</td>\n",
       "      <td>:</td>\n",
       "    </tr>\n",
       "    <tr>\n",
       "      <th>1</th>\n",
       "      <td>A</td>\n",
       "      <td>DOM</td>\n",
       "      <td>PER</td>\n",
       "      <td>N1-3</td>\n",
       "      <td>F</td>\n",
       "      <td>NR</td>\n",
       "      <td>AT</td>\n",
       "      <td>2012</td>\n",
       "      <td>3155661</td>\n",
       "    </tr>\n",
       "    <tr>\n",
       "      <th>2</th>\n",
       "      <td>A</td>\n",
       "      <td>DOM</td>\n",
       "      <td>PER</td>\n",
       "      <td>N1-3</td>\n",
       "      <td>F</td>\n",
       "      <td>NR</td>\n",
       "      <td>BE</td>\n",
       "      <td>2012</td>\n",
       "      <td>756712</td>\n",
       "    </tr>\n",
       "    <tr>\n",
       "      <th>3</th>\n",
       "      <td>A</td>\n",
       "      <td>DOM</td>\n",
       "      <td>PER</td>\n",
       "      <td>N1-3</td>\n",
       "      <td>F</td>\n",
       "      <td>NR</td>\n",
       "      <td>BG</td>\n",
       "      <td>2012</td>\n",
       "      <td>1029215 b</td>\n",
       "    </tr>\n",
       "    <tr>\n",
       "      <th>4</th>\n",
       "      <td>A</td>\n",
       "      <td>DOM</td>\n",
       "      <td>PER</td>\n",
       "      <td>N1-3</td>\n",
       "      <td>F</td>\n",
       "      <td>NR</td>\n",
       "      <td>CH</td>\n",
       "      <td>2012</td>\n",
       "      <td>2156668</td>\n",
       "    </tr>\n",
       "  </tbody>\n",
       "</table>\n",
       "</div>"
      ],
      "text/plain": [
       "  freq c_dest purpose duration sex unit geo\\TIME_PERIOD   year      value\n",
       "0    A    DOM     PER     N1-3   F   NR              AL  2012          : \n",
       "1    A    DOM     PER     N1-3   F   NR              AT  2012    3155661 \n",
       "2    A    DOM     PER     N1-3   F   NR              BE  2012     756712 \n",
       "3    A    DOM     PER     N1-3   F   NR              BG  2012   1029215 b\n",
       "4    A    DOM     PER     N1-3   F   NR              CH  2012    2156668 "
      ]
     },
     "execution_count": 35,
     "metadata": {},
     "output_type": "execute_result"
    }
   ],
   "source": [
    "# === Melt wide year-columns into long format ===\n",
    "def melt_long(df, dims):\n",
    "    df_long = df.melt(id_vars=dims, var_name=\"year\", value_name=\"value\")\n",
    "    return df_long\n",
    "\n",
    "ttsex_long = melt_long(ttsex, dims_ttsex)\n",
    "extot_long = melt_long(extot, dims_extot)\n",
    "tnage_long = melt_long(tnage, dims_tnage)\n",
    "\n",
    "ttsex_long.head()\n"
   ]
  },
  {
   "cell_type": "code",
   "execution_count": 36,
   "id": "f8f38f02",
   "metadata": {},
   "outputs": [],
   "source": [
    "# === Clean numeric values (remove flags like 'b', 'u', 'p') ===\n",
    "def clean_values(df):\n",
    "    df[\"value\"] = df[\"value\"].astype(str).str.replace(r\"[^0-9.]\", \"\", regex=True)\n",
    "    df[\"value\"] = pd.to_numeric(df[\"value\"], errors=\"coerce\")\n",
    "    return df.dropna(subset=[\"value\"])\n",
    "\n",
    "ttsex_clean = clean_values(ttsex_long)\n",
    "extot_clean = clean_values(extot_long)\n",
    "tnage_clean = clean_values(tnage_long)\n"
   ]
  },
  {
   "cell_type": "code",
   "execution_count": 37,
   "id": "812a87e1",
   "metadata": {},
   "outputs": [],
   "source": [
    "# === Standardize column names ===\n",
    "def clean_columns(df):\n",
    "    df.columns = (\n",
    "        df.columns.str.strip()\n",
    "        .str.lower()\n",
    "        .str.replace(\" \", \"_\", regex=False)\n",
    "        .str.replace(\"/\", \"_\", regex=False)\n",
    "    )\n",
    "    return df\n",
    "\n",
    "ttsex_clean = clean_columns(ttsex_clean)\n",
    "extot_clean = clean_columns(extot_clean)\n",
    "tnage_clean = clean_columns(tnage_clean)\n"
   ]
  },
  {
   "cell_type": "code",
   "execution_count": 39,
   "id": "18e85f3d",
   "metadata": {},
   "outputs": [
    {
     "name": "stdout",
     "output_type": "stream",
     "text": [
      "✅ Separate cleaned datasets saved for Neo4j:\n",
      " - extot_clean.csv\n",
      " - ttsex_clean.csv\n",
      " - tnage_clean.csv\n"
     ]
    }
   ],
   "source": [
    "# === 1. Save separate cleaned datasets (for Neo4j KG import) ===\n",
    "processed_path = os.path.join(path, \"processed\")\n",
    "os.makedirs(processed_path, exist_ok=True)\n",
    "\n",
    "extot_clean.to_csv(os.path.join(processed_path, \"extot_clean.csv\"), index=False)\n",
    "ttsex_clean.to_csv(os.path.join(processed_path, \"ttsex_clean.csv\"), index=False)\n",
    "tnage_clean.to_csv(os.path.join(processed_path, \"tnage_clean.csv\"), index=False)\n",
    "\n",
    "print(\"✅ Separate cleaned datasets saved for Neo4j:\")\n",
    "print(\" - extot_clean.csv\")\n",
    "print(\" - ttsex_clean.csv\")\n",
    "print(\" - tnage_clean.csv\")\n"
   ]
  },
  {
   "cell_type": "code",
   "execution_count": 40,
   "id": "8d42fa62",
   "metadata": {},
   "outputs": [
    {
     "name": "stdout",
     "output_type": "stream",
     "text": [
      "Common merge keys: ['unit', 'c_dest', 'year', 'duration', 'geo\\\\time_period', 'freq', 'purpose']\n",
      "✅ Merged dataset for ML saved as tourism_merged.csv\n",
      "Merged dataset shape: (499442, 14)\n",
      "  freq purpose duration c_dest expend statinfo unit geo\\time_period   year  \\\n",
      "0    A     PER     N1-3    DOM  ACCOM  AVG_NGT  EUR              AT  2012    \n",
      "1    A     PER     N1-3    DOM  ACCOM  AVG_TRP  EUR              AT  2012    \n",
      "2    A     PER     N1-3    DOM  ACCOM    TOTAL  EUR              AT  2012    \n",
      "3    A     PER     N1-3    DOM    DUR  AVG_NGT  EUR              AT  2012    \n",
      "4    A     PER     N1-3    DOM    DUR  AVG_TRP  EUR              AT  2012    \n",
      "\n",
      "   expenditure_value  sex  sex_value  age  age_value  \n",
      "0       6.602000e+01  NaN        NaN  NaN        NaN  \n",
      "1       1.327200e+02  NaN        NaN  NaN        NaN  \n",
      "2       7.667658e+08  NaN        NaN  NaN        NaN  \n",
      "3       1.670000e+00  NaN        NaN  NaN        NaN  \n",
      "4       3.360000e+00  NaN        NaN  NaN        NaN  \n"
     ]
    }
   ],
   "source": [
    "# === 2. Create merged dataset (for ML models) ===\n",
    "\n",
    "# Rename value columns\n",
    "extot_ml = extot_clean.rename(columns={\"value\": \"expenditure_value\"})\n",
    "ttsex_ml = ttsex_clean.rename(columns={\"value\": \"sex_value\"})\n",
    "tnage_ml = tnage_clean.rename(columns={\"value\": \"age_value\"})\n",
    "\n",
    "# Detect common keys automatically\n",
    "common_keys = list(\n",
    "    set(extot_ml.columns) &\n",
    "    set(ttsex_ml.columns) &\n",
    "    set(tnage_ml.columns)\n",
    ")\n",
    "\n",
    "print(\"Common merge keys:\", common_keys)\n",
    "\n",
    "# Merge all three on common keys\n",
    "merged = extot_ml.merge(\n",
    "    ttsex_ml, on=common_keys, how=\"outer\", suffixes=(\"\", \"_sex\")\n",
    ")\n",
    "merged = merged.merge(\n",
    "    tnage_ml, on=common_keys, how=\"outer\", suffixes=(\"\", \"_age\")\n",
    ")\n",
    "\n",
    "# Save merged dataset\n",
    "merged.to_csv(os.path.join(processed_path, \"tourism_merged.csv\"), index=False)\n",
    "\n",
    "print(\"✅ Merged dataset for ML saved as tourism_merged.csv\")\n",
    "print(\"Merged dataset shape:\", merged.shape)\n",
    "print(merged.head())\n"
   ]
  },
  {
   "cell_type": "code",
   "execution_count": null,
   "id": "c4451f70",
   "metadata": {},
   "outputs": [],
   "source": []
  },
  {
   "cell_type": "code",
   "execution_count": null,
   "id": "164354b8",
   "metadata": {},
   "outputs": [],
   "source": []
  },
  {
   "cell_type": "code",
   "execution_count": null,
   "id": "35f5bb9f",
   "metadata": {},
   "outputs": [],
   "source": []
  },
  {
   "cell_type": "code",
   "execution_count": null,
   "id": "16f0fe84",
   "metadata": {},
   "outputs": [],
   "source": []
  },
  {
   "cell_type": "code",
   "execution_count": null,
   "id": "ba03c54b",
   "metadata": {},
   "outputs": [],
   "source": []
  }
 ],
 "metadata": {
  "kernelspec": {
   "display_name": "base",
   "language": "python",
   "name": "python3"
  },
  "language_info": {
   "codemirror_mode": {
    "name": "ipython",
    "version": 3
   },
   "file_extension": ".py",
   "mimetype": "text/x-python",
   "name": "python",
   "nbconvert_exporter": "python",
   "pygments_lexer": "ipython3",
   "version": "3.12.4"
  }
 },
 "nbformat": 4,
 "nbformat_minor": 5
}
