{
 "cells": [
  {
   "cell_type": "markdown",
   "id": "46cea51c",
   "metadata": {},
   "source": [
    "# Preprocessing the Datasets\n"
   ]
  },
  {
   "cell_type": "markdown",
   "id": "2702b3d7",
   "metadata": {},
   "source": [
    "## Importing the Libraries"
   ]
  },
  {
   "cell_type": "code",
   "execution_count": 12,
   "id": "cf2a40b9",
   "metadata": {},
   "outputs": [],
   "source": [
    "import pandas as pd\n",
    "import os\n"
   ]
  },
  {
   "cell_type": "code",
   "execution_count": 4,
   "id": "0a6d297b",
   "metadata": {},
   "outputs": [
    {
     "data": {
      "text/html": [
       "<div>\n",
       "<style scoped>\n",
       "    .dataframe tbody tr th:only-of-type {\n",
       "        vertical-align: middle;\n",
       "    }\n",
       "\n",
       "    .dataframe tbody tr th {\n",
       "        vertical-align: top;\n",
       "    }\n",
       "\n",
       "    .dataframe thead th {\n",
       "        text-align: right;\n",
       "    }\n",
       "</style>\n",
       "<table border=\"1\" class=\"dataframe\">\n",
       "  <thead>\n",
       "    <tr style=\"text-align: right;\">\n",
       "      <th></th>\n",
       "      <th>freq,purpose,duration,c_dest,expend,statinfo,unit,geo\\TIME_PERIOD</th>\n",
       "      <th>2012</th>\n",
       "      <th>2013</th>\n",
       "      <th>2014</th>\n",
       "      <th>2015</th>\n",
       "      <th>2016</th>\n",
       "      <th>2017</th>\n",
       "      <th>2018</th>\n",
       "      <th>2019</th>\n",
       "      <th>2020</th>\n",
       "      <th>2021</th>\n",
       "      <th>2022</th>\n",
       "      <th>2023</th>\n",
       "    </tr>\n",
       "  </thead>\n",
       "  <tbody>\n",
       "    <tr>\n",
       "      <th>0</th>\n",
       "      <td>A,PER,N1-3,DOM,ACCOM,AVG_NGT,EUR,AL</td>\n",
       "      <td>:</td>\n",
       "      <td>:</td>\n",
       "      <td>:</td>\n",
       "      <td>:</td>\n",
       "      <td>:</td>\n",
       "      <td>2.38</td>\n",
       "      <td>:</td>\n",
       "      <td>3.88</td>\n",
       "      <td>9.51</td>\n",
       "      <td>:</td>\n",
       "      <td>:</td>\n",
       "      <td>:</td>\n",
       "    </tr>\n",
       "    <tr>\n",
       "      <th>1</th>\n",
       "      <td>A,PER,N1-3,DOM,ACCOM,AVG_NGT,EUR,AT</td>\n",
       "      <td>66.02</td>\n",
       "      <td>50.64</td>\n",
       "      <td>46.01</td>\n",
       "      <td>51.48</td>\n",
       "      <td>54.07</td>\n",
       "      <td>55.03</td>\n",
       "      <td>56.24</td>\n",
       "      <td>56.22</td>\n",
       "      <td>51.82</td>\n",
       "      <td>50.29</td>\n",
       "      <td>57.58</td>\n",
       "      <td>67.50</td>\n",
       "    </tr>\n",
       "    <tr>\n",
       "      <th>2</th>\n",
       "      <td>A,PER,N1-3,DOM,ACCOM,AVG_NGT,EUR,BE</td>\n",
       "      <td>36.76</td>\n",
       "      <td>39.50</td>\n",
       "      <td>37.12</td>\n",
       "      <td>37.13</td>\n",
       "      <td>34.41</td>\n",
       "      <td>39.76 b</td>\n",
       "      <td>34.96</td>\n",
       "      <td>37.88</td>\n",
       "      <td>37.23</td>\n",
       "      <td>40.52</td>\n",
       "      <td>44.16</td>\n",
       "      <td>48.16</td>\n",
       "    </tr>\n",
       "    <tr>\n",
       "      <th>3</th>\n",
       "      <td>A,PER,N1-3,DOM,ACCOM,AVG_NGT,EUR,BG</td>\n",
       "      <td>4.58 b</td>\n",
       "      <td>5.42</td>\n",
       "      <td>6.66</td>\n",
       "      <td>6.40</td>\n",
       "      <td>6.41</td>\n",
       "      <td>5.85</td>\n",
       "      <td>5.60</td>\n",
       "      <td>8.66</td>\n",
       "      <td>9.62</td>\n",
       "      <td>12.74</td>\n",
       "      <td>16.82</td>\n",
       "      <td>18.54</td>\n",
       "    </tr>\n",
       "    <tr>\n",
       "      <th>4</th>\n",
       "      <td>A,PER,N1-3,DOM,ACCOM,AVG_NGT,EUR,CH</td>\n",
       "      <td>39.76</td>\n",
       "      <td>47.91</td>\n",
       "      <td>46.39</td>\n",
       "      <td>53.58</td>\n",
       "      <td>52.03</td>\n",
       "      <td>53.80</td>\n",
       "      <td>52.26</td>\n",
       "      <td>55.43</td>\n",
       "      <td>60.78</td>\n",
       "      <td>70.47</td>\n",
       "      <td>72.51</td>\n",
       "      <td>:</td>\n",
       "    </tr>\n",
       "  </tbody>\n",
       "</table>\n",
       "</div>"
      ],
      "text/plain": [
       "  freq,purpose,duration,c_dest,expend,statinfo,unit,geo\\TIME_PERIOD   2012   \\\n",
       "0                A,PER,N1-3,DOM,ACCOM,AVG_NGT,EUR,AL                     :    \n",
       "1                A,PER,N1-3,DOM,ACCOM,AVG_NGT,EUR,AT                 66.02    \n",
       "2                A,PER,N1-3,DOM,ACCOM,AVG_NGT,EUR,BE                 36.76    \n",
       "3                A,PER,N1-3,DOM,ACCOM,AVG_NGT,EUR,BG                 4.58 b   \n",
       "4                A,PER,N1-3,DOM,ACCOM,AVG_NGT,EUR,CH                 39.76    \n",
       "\n",
       "    2013    2014    2015    2016     2017    2018    2019    2020    2021   \\\n",
       "0      :       :       :       :     2.38       :    3.88    9.51       :    \n",
       "1  50.64   46.01   51.48   54.07    55.03   56.24   56.22   51.82   50.29    \n",
       "2  39.50   37.12   37.13   34.41   39.76 b  34.96   37.88   37.23   40.52    \n",
       "3   5.42    6.66    6.40    6.41     5.85    5.60    8.66    9.62   12.74    \n",
       "4  47.91   46.39   53.58   52.03    53.80   52.26   55.43   60.78   70.47    \n",
       "\n",
       "    2022    2023   \n",
       "0      :       :   \n",
       "1  57.58   67.50   \n",
       "2  44.16   48.16   \n",
       "3  16.82   18.54   \n",
       "4  72.51       :   "
      ]
     },
     "execution_count": 4,
     "metadata": {},
     "output_type": "execute_result"
    }
   ],
   "source": [
    "df_extot = pd.read_csv(\"Datasets/Raw/estat_tour_dem_extot.tsv\", sep=\"\\t\")\n",
    "df_extot.head()"
   ]
  },
  {
   "cell_type": "code",
   "execution_count": 5,
   "id": "68638eda",
   "metadata": {},
   "outputs": [
    {
     "data": {
      "text/html": [
       "<div>\n",
       "<style scoped>\n",
       "    .dataframe tbody tr th:only-of-type {\n",
       "        vertical-align: middle;\n",
       "    }\n",
       "\n",
       "    .dataframe tbody tr th {\n",
       "        vertical-align: top;\n",
       "    }\n",
       "\n",
       "    .dataframe thead th {\n",
       "        text-align: right;\n",
       "    }\n",
       "</style>\n",
       "<table border=\"1\" class=\"dataframe\">\n",
       "  <thead>\n",
       "    <tr style=\"text-align: right;\">\n",
       "      <th></th>\n",
       "      <th>freq,purpose,c_dest,duration,age,unit,geo\\TIME_PERIOD</th>\n",
       "      <th>2012</th>\n",
       "      <th>2013</th>\n",
       "      <th>2014</th>\n",
       "      <th>2015</th>\n",
       "      <th>2016</th>\n",
       "      <th>2017</th>\n",
       "      <th>2018</th>\n",
       "      <th>2019</th>\n",
       "      <th>2020</th>\n",
       "      <th>2021</th>\n",
       "      <th>2022</th>\n",
       "      <th>2023</th>\n",
       "    </tr>\n",
       "  </thead>\n",
       "  <tbody>\n",
       "    <tr>\n",
       "      <th>0</th>\n",
       "      <td>A,PER,DOM,N1-3,Y15-24,NR,AL</td>\n",
       "      <td>:</td>\n",
       "      <td>:</td>\n",
       "      <td>:</td>\n",
       "      <td>:</td>\n",
       "      <td>:</td>\n",
       "      <td>815878</td>\n",
       "      <td>:</td>\n",
       "      <td>773740</td>\n",
       "      <td>486390</td>\n",
       "      <td>:</td>\n",
       "      <td>:</td>\n",
       "      <td>:</td>\n",
       "    </tr>\n",
       "    <tr>\n",
       "      <th>1</th>\n",
       "      <td>A,PER,DOM,N1-3,Y15-24,NR,AT</td>\n",
       "      <td>1716783</td>\n",
       "      <td>1881068</td>\n",
       "      <td>1711578</td>\n",
       "      <td>1577217</td>\n",
       "      <td>1956490</td>\n",
       "      <td>1837386</td>\n",
       "      <td>1871739</td>\n",
       "      <td>2044466</td>\n",
       "      <td>1543619</td>\n",
       "      <td>1889960</td>\n",
       "      <td>2886705</td>\n",
       "      <td>2207345</td>\n",
       "    </tr>\n",
       "    <tr>\n",
       "      <th>2</th>\n",
       "      <td>A,PER,DOM,N1-3,Y15-24,NR,BE</td>\n",
       "      <td>194617 u</td>\n",
       "      <td>287394</td>\n",
       "      <td>194586</td>\n",
       "      <td>378535</td>\n",
       "      <td>214340</td>\n",
       "      <td>409604 b</td>\n",
       "      <td>520075</td>\n",
       "      <td>535349</td>\n",
       "      <td>513967</td>\n",
       "      <td>698793</td>\n",
       "      <td>617141</td>\n",
       "      <td>507323</td>\n",
       "    </tr>\n",
       "    <tr>\n",
       "      <th>3</th>\n",
       "      <td>A,PER,DOM,N1-3,Y15-24,NR,BG</td>\n",
       "      <td>989104 b</td>\n",
       "      <td>881981</td>\n",
       "      <td>691500</td>\n",
       "      <td>467668</td>\n",
       "      <td>475164</td>\n",
       "      <td>911906</td>\n",
       "      <td>733618</td>\n",
       "      <td>631363</td>\n",
       "      <td>352139</td>\n",
       "      <td>457406</td>\n",
       "      <td>491589</td>\n",
       "      <td>563691</td>\n",
       "    </tr>\n",
       "    <tr>\n",
       "      <th>4</th>\n",
       "      <td>A,PER,DOM,N1-3,Y15-24,NR,CH</td>\n",
       "      <td>958967 u</td>\n",
       "      <td>799593 u</td>\n",
       "      <td>694026 u</td>\n",
       "      <td>856549 u</td>\n",
       "      <td>1007354 u</td>\n",
       "      <td>666201 u</td>\n",
       "      <td>456367 u</td>\n",
       "      <td>898414 u</td>\n",
       "      <td>1169447 u</td>\n",
       "      <td>1211978 u</td>\n",
       "      <td>1633178 u</td>\n",
       "      <td>:</td>\n",
       "    </tr>\n",
       "  </tbody>\n",
       "</table>\n",
       "</div>"
      ],
      "text/plain": [
       "  freq,purpose,c_dest,duration,age,unit,geo\\TIME_PERIOD     2012      2013   \\\n",
       "0                        A,PER,DOM,N1-3,Y15-24,NR,AL           :         :    \n",
       "1                        A,PER,DOM,N1-3,Y15-24,NR,AT     1716783   1881068    \n",
       "2                        A,PER,DOM,N1-3,Y15-24,NR,BE     194617 u   287394    \n",
       "3                        A,PER,DOM,N1-3,Y15-24,NR,BG     989104 b   881981    \n",
       "4                        A,PER,DOM,N1-3,Y15-24,NR,CH     958967 u  799593 u   \n",
       "\n",
       "      2014      2015       2016      2017      2018      2019       2020   \\\n",
       "0        :         :          :    815878         :    773740     486390    \n",
       "1  1711578   1577217    1956490   1837386   1871739   2044466    1543619    \n",
       "2   194586    378535     214340   409604 b   520075    535349     513967    \n",
       "3   691500    467668     475164    911906    733618    631363     352139    \n",
       "4  694026 u  856549 u  1007354 u  666201 u  456367 u  898414 u  1169447 u   \n",
       "\n",
       "       2021       2022      2023   \n",
       "0         :          :         :   \n",
       "1   1889960    2886705   2207345   \n",
       "2    698793     617141    507323   \n",
       "3    457406     491589    563691   \n",
       "4  1211978 u  1633178 u        :   "
      ]
     },
     "execution_count": 5,
     "metadata": {},
     "output_type": "execute_result"
    }
   ],
   "source": [
    "df_tnage = pd.read_csv(\"Datasets/Raw/estat_tour_dem_tnage.tsv\", sep=\"\\t\")\n",
    "df_tnage.head()"
   ]
  },
  {
   "cell_type": "code",
   "execution_count": 9,
   "id": "d914e285",
   "metadata": {},
   "outputs": [],
   "source": [
    "paths = {\n",
    "    \"extot\": \"Datasets/Raw/estat_tour_dem_extot.tsv\",\n",
    "    \"tnpur\": \"Datasets/Raw/estat_tour_dem_tnpur.tsv\",\n",
    "    \"ttls\": \"Datasets/Raw/estat_tour_dem_ttls.tsv\",\n",
    "    \"tnage\": \"Datasets/Raw/estat_tour_dem_tnage.tsv\",\n",
    "    \"tninc\": \"Datasets/Raw/estat_tour_dem_tninc.tsv\",\n",
    "    \"ttsex\": \"Datasets/Raw/estat_tour_dem_ttsex.tsv\"\n",
    "}\n",
    "\n",
    "# Metadata column definitions (based on Eurostat docs and inspection)\n",
    "schemas = {\n",
    "    \"extot\": ['freq','purpose','duration','c_dest','expend','statinfo','unit','geo'],\n",
    "    \"tnpur\": ['freq','purpose','duration','unit','geo'],\n",
    "    \"ttls\":  ['freq','duration','purpose','unit','geo'],\n",
    "    \"tnage\": ['freq','age','purpose','duration','unit','geo'],\n",
    "    \"tninc\": ['freq','income','purpose','duration','unit','geo'],\n",
    "    \"ttsex\": ['freq','sex','purpose','duration','unit','geo']\n",
    "}"
   ]
  },
  {
   "cell_type": "markdown",
   "id": "18025ab3",
   "metadata": {},
   "source": [
    "## Preprocess Function"
   ]
  },
  {
   "cell_type": "code",
   "execution_count": 10,
   "id": "1daf298f",
   "metadata": {},
   "outputs": [],
   "source": [
    "def preprocess(file_path, meta_cols):\n",
    "    df = pd.read_csv(file_path, sep=\"\\t\")\n",
    "    # Split metadata into parts\n",
    "    parts = df[df.columns[0]].str.split(\",\", expand=True)\n",
    "    # Pad if needed\n",
    "    for i in range(len(parts.columns), len(meta_cols)):\n",
    "        parts[i] = None\n",
    "    df[meta_cols] = parts.iloc[:, :len(meta_cols)]\n",
    "    # Year columns\n",
    "    year_cols = [c for c in df.columns if c.strip().isdigit()]\n",
    "    # Melt into long format\n",
    "    df_long = df.melt(\n",
    "        id_vars=meta_cols,\n",
    "        value_vars=year_cols,\n",
    "        var_name=\"year\",\n",
    "        value_name=\"value\"\n",
    "    )\n",
    "    # Clean values\n",
    "    df_long['year'] = df_long['year'].str.strip()\n",
    "    df_long['value'] = df_long['value'].astype(str).str.replace(\":\", \"\", regex=False)\n",
    "    df_long['value'] = df_long['value'].str.replace(r\"[^\\d\\.\\-]\", \"\", regex=True)\n",
    "    df_long['value'] = pd.to_numeric(df_long['value'], errors='coerce')\n",
    "    df_long = df_long.dropna(subset=['value'])\n",
    "    return df_long"
   ]
  },
  {
   "cell_type": "markdown",
   "id": "b8e7e54a",
   "metadata": {},
   "source": [
    "Here we process all datasets with the preprocessing function\n"
   ]
  },
  {
   "cell_type": "code",
   "execution_count": 17,
   "id": "666b6bc0",
   "metadata": {},
   "outputs": [],
   "source": [
    "cleaned = {}\n",
    "for name, path in paths.items():\n",
    "    cleaned[name] = preprocess(path, schemas[name])\n"
   ]
  },
  {
   "cell_type": "code",
   "execution_count": 18,
   "id": "de2276c0",
   "metadata": {},
   "outputs": [],
   "source": [
    "out_dir = \"Datasets/Preprocessed\"\n",
    "os.makedirs(out_dir, exist_ok=True)\n",
    "out_paths = {}\n",
    "for name, df in cleaned_fixed.items():\n",
    "    out_path = os.path.join(out_dir, f\"{name}_cleaned.csv\")\n",
    "    df.to_csv(out_path, index=False)\n",
    "    out_paths[name] = out_path"
   ]
  },
  {
   "cell_type": "markdown",
   "id": "c6dcd529",
   "metadata": {},
   "source": [
    "Overview of cleaned datasets\n"
   ]
  },
  {
   "cell_type": "code",
   "execution_count": 19,
   "id": "bd22678a",
   "metadata": {},
   "outputs": [
    {
     "data": {
      "text/plain": [
       "({'extot': 'Datasets/Preprocessed\\\\extot_cleaned.csv',\n",
       "  'tnpur': 'Datasets/Preprocessed\\\\tnpur_cleaned.csv',\n",
       "  'ttls': 'Datasets/Preprocessed\\\\ttls_cleaned.csv',\n",
       "  'tnage': 'Datasets/Preprocessed\\\\tnage_cleaned.csv',\n",
       "  'tninc': 'Datasets/Preprocessed\\\\tninc_cleaned.csv',\n",
       "  'ttsex': 'Datasets/Preprocessed\\\\ttsex_cleaned.csv'},\n",
       "    freq  age purpose duration    unit geo  year        value\n",
       " 1     A  PER     DOM     N1-3  Y15-24  NR  2012    1716783.0\n",
       " 2     A  PER     DOM     N1-3  Y15-24  NR  2012     194617.0\n",
       " 3     A  PER     DOM     N1-3  Y15-24  NR  2012     989104.0\n",
       " 4     A  PER     DOM     N1-3  Y15-24  NR  2012     958967.0\n",
       " 5     A  PER     DOM     N1-3  Y15-24  NR  2012     252897.0\n",
       " 6     A  PER     DOM     N1-3  Y15-24  NR  2012    4442405.0\n",
       " 7     A  PER     DOM     N1-3  Y15-24  NR  2012   27422539.0\n",
       " 8     A  PER     DOM     N1-3  Y15-24  NR  2012    7465010.0\n",
       " 9     A  PER     DOM     N1-3  Y15-24  NR  2012  100835041.0\n",
       " 10    A  PER     DOM     N1-3  Y15-24  NR  2012     536572.0)"
      ]
     },
     "execution_count": 19,
     "metadata": {},
     "output_type": "execute_result"
    }
   ],
   "source": [
    "out_paths, cleaned[\"tnage\"].head(10)"
   ]
  },
  {
   "cell_type": "code",
   "execution_count": 20,
   "id": "ed0eb3d7",
   "metadata": {},
   "outputs": [
    {
     "data": {
      "text/plain": [
       "{'extot':               value\n",
       " count  2.181480e+05\n",
       " mean   1.137473e+09\n",
       " std    1.009742e+10\n",
       " min    0.000000e+00\n",
       " 25%    2.052000e+01\n",
       " 50%    1.089900e+02\n",
       " 75%    2.311279e+07\n",
       " max    5.542959e+11,\n",
       " 'tnpur':               value\n",
       " count  2.309800e+04\n",
       " mean   9.583558e+07\n",
       " std    3.833842e+08\n",
       " min    4.535000e+03\n",
       " 25%    1.561194e+06\n",
       " 50%    6.667105e+06\n",
       " 75%    3.558578e+07\n",
       " max    5.717134e+09,\n",
       " 'ttls':               value\n",
       " count  3.189600e+04\n",
       " mean   1.290318e+07\n",
       " std    5.936336e+07\n",
       " min    1.077000e+03\n",
       " 25%    1.689805e+05\n",
       " 50%    7.771140e+05\n",
       " 75%    4.183584e+06\n",
       " max    1.143077e+09,\n",
       " 'tnage':               value\n",
       " count  9.435900e+04\n",
       " mean   4.271674e+07\n",
       " std    2.019837e+08\n",
       " min    3.081000e+03\n",
       " 25%    7.708255e+05\n",
       " 50%    3.204786e+06\n",
       " 75%    1.468253e+07\n",
       " max    5.717134e+09,\n",
       " 'tninc':               value\n",
       " count  2.545100e+04\n",
       " mean   4.358925e+07\n",
       " std    1.291152e+08\n",
       " min    8.909000e+03\n",
       " 25%    1.402792e+06\n",
       " 50%    6.219921e+06\n",
       " 75%    2.759901e+07\n",
       " max    1.498547e+09,\n",
       " 'ttsex':               value\n",
       " count  3.443600e+04\n",
       " mean   1.690789e+07\n",
       " std    6.523338e+07\n",
       " min    2.615000e+03\n",
       " 25%    3.178012e+05\n",
       " 50%    1.436314e+06\n",
       " 75%    6.489307e+06\n",
       " max    1.143077e+09}"
      ]
     },
     "execution_count": 20,
     "metadata": {},
     "output_type": "execute_result"
    }
   ],
   "source": [
    "previews = {name: df.describe() for name, df in cleaned.items()}\n",
    "previews"
   ]
  },
  {
   "cell_type": "markdown",
   "id": "cf385f84",
   "metadata": {},
   "source": [
    "Here we export the cleaned datasets to CSV files and store the paths in a dictionary"
   ]
  },
  {
   "cell_type": "code",
   "execution_count": 21,
   "id": "ed82740c",
   "metadata": {},
   "outputs": [
    {
     "data": {
      "text/plain": [
       "{'extot': 'Datasets/Preprocessed/extot_cleaned.csv',\n",
       " 'tnpur': 'Datasets/Preprocessed/tnpur_cleaned.csv',\n",
       " 'ttls': 'Datasets/Preprocessed/ttls_cleaned.csv',\n",
       " 'tnage': 'Datasets/Preprocessed/tnage_cleaned.csv',\n",
       " 'tninc': 'Datasets/Preprocessed/tninc_cleaned.csv',\n",
       " 'ttsex': 'Datasets/Preprocessed/ttsex_cleaned.csv'}"
      ]
     },
     "execution_count": 21,
     "metadata": {},
     "output_type": "execute_result"
    }
   ],
   "source": [
    "export_paths = {}\n",
    "for name, df in cleaned.items():\n",
    "    path = os.path.join(\"Datasets/Preprocessed/\", f\"{name}_cleaned.csv\")\n",
    "    df.to_csv(path, index=False)\n",
    "    export_paths[name] = path\n",
    "\n",
    "export_paths\n"
   ]
  },
  {
   "cell_type": "markdown",
   "id": "27a51bc1",
   "metadata": {},
   "source": [
    "We need to add unique IDs to each row in the datasets for better tracking and referencing. We will create a new column 'id' for each dataset, with a prefix based on the dataset name."
   ]
  },
  {
   "cell_type": "markdown",
   "id": "25767e4f",
   "metadata": {},
   "source": [
    "These ids are necessary for the knowledge graph construction because we need unique identifiers for each entry."
   ]
  },
  {
   "cell_type": "code",
   "execution_count": 22,
   "id": "3e3374e1",
   "metadata": {},
   "outputs": [],
   "source": [
    "input_dir = \"Datasets/Preprocessed\"\n",
    "\n",
    "# Output folder\n",
    "output_dir = \"Datasets/Preprocessed_withIDs\"\n",
    "os.makedirs(output_dir, exist_ok=True)"
   ]
  },
  {
   "cell_type": "markdown",
   "id": "1c245d2a",
   "metadata": {},
   "source": [
    "Function to add unique IDs based on dataset type"
   ]
  },
  {
   "cell_type": "code",
   "execution_count": 23,
   "id": "5f95be6c",
   "metadata": {},
   "outputs": [],
   "source": [
    "def add_ids(name, df):\n",
    "    if name == \"extot\":\n",
    "        df[\"trip_id\"] = (\n",
    "            df[\"year\"].astype(str) + \"_\" +\n",
    "            df[\"geo\"].astype(str) + \"_\" +\n",
    "            df[\"purpose\"].astype(str) + \"_\" +\n",
    "            df[\"duration\"].astype(str) + \"_\" +\n",
    "            df[\"expend\"].astype(str) + \"_\" +\n",
    "            df[\"statinfo\"].astype(str)\n",
    "        )\n",
    "    elif name == \"tnpur\":\n",
    "        df[\"purpose_id\"] = (\n",
    "            df[\"year\"].astype(str) + \"_\" +\n",
    "            df[\"geo\"].astype(str) + \"_\" +\n",
    "            df[\"purpose\"].astype(str)\n",
    "        )\n",
    "    elif name == \"ttls\":\n",
    "        df[\"duration_id\"] = (\n",
    "            df[\"year\"].astype(str) + \"_\" +\n",
    "            df[\"geo\"].astype(str) + \"_\" +\n",
    "            df[\"duration\"].astype(str)\n",
    "        )\n",
    "    elif name == \"tnage\":\n",
    "        df[\"agegroup_id\"] = (\n",
    "            df[\"year\"].astype(str) + \"_\" +\n",
    "            df[\"geo\"].astype(str) + \"_\" +\n",
    "            df[\"age\"].astype(str)\n",
    "        )\n",
    "    elif name == \"tninc\":\n",
    "        df[\"income_id\"] = (\n",
    "            df[\"year\"].astype(str) + \"_\" +\n",
    "            df[\"geo\"].astype(str) + \"_\" +\n",
    "            df[\"income\"].astype(str)\n",
    "        )\n",
    "    elif name == \"ttsex\":\n",
    "        df[\"sex_id\"] = (\n",
    "            df[\"year\"].astype(str) + \"_\" +\n",
    "            df[\"geo\"].astype(str) + \"_\" +\n",
    "            df[\"sex\"].astype(str)\n",
    "        )\n",
    "    return df\n"
   ]
  },
  {
   "cell_type": "markdown",
   "id": "bcde0914",
   "metadata": {},
   "source": [
    "We define the files that we need to preprocess"
   ]
  },
  {
   "cell_type": "code",
   "execution_count": 25,
   "id": "18ee774a",
   "metadata": {},
   "outputs": [],
   "source": [
    "# Files that we want to process\n",
    "files = {\n",
    "    \"extot\": \"extot_cleaned.csv\",\n",
    "    \"tnpur\": \"tnpur_cleaned.csv\",\n",
    "    \"ttls\": \"ttls_cleaned.csv\",\n",
    "    \"tnage\": \"tnage_cleaned.csv\",\n",
    "    \"tninc\": \"tninc_cleaned.csv\",\n",
    "    \"ttsex\": \"ttsex_cleaned.csv\"\n",
    "}\n"
   ]
  },
  {
   "cell_type": "code",
   "execution_count": 26,
   "id": "5de59819",
   "metadata": {},
   "outputs": [
    {
     "name": "stdout",
     "output_type": "stream",
     "text": [
      "Saved Datasets/Preprocessed_withIDs\\extot_withID.csv\n",
      "Saved Datasets/Preprocessed_withIDs\\tnpur_withID.csv\n",
      "Saved Datasets/Preprocessed_withIDs\\ttls_withID.csv\n",
      "Saved Datasets/Preprocessed_withIDs\\tnage_withID.csv\n",
      "Saved Datasets/Preprocessed_withIDs\\tninc_withID.csv\n",
      "Saved Datasets/Preprocessed_withIDs\\ttsex_withID.csv\n"
     ]
    }
   ],
   "source": [
    "# Process and save\n",
    "for name, fname in files.items():\n",
    "    path = os.path.join(input_dir, fname)\n",
    "    df = pd.read_csv(path)\n",
    "    df = add_ids(name, df)\n",
    "    out_path = os.path.join(output_dir, fname.replace(\"_cleaned\", \"_withID\"))\n",
    "    df.to_csv(out_path, index=False)\n",
    "    print(f\"Saved {out_path}\")\n"
   ]
  },
  {
   "cell_type": "code",
   "execution_count": null,
   "id": "0ab97f7f",
   "metadata": {},
   "outputs": [],
   "source": []
  }
 ],
 "metadata": {
  "kernelspec": {
   "display_name": "base",
   "language": "python",
   "name": "python3"
  },
  "language_info": {
   "codemirror_mode": {
    "name": "ipython",
    "version": 3
   },
   "file_extension": ".py",
   "mimetype": "text/x-python",
   "name": "python",
   "nbconvert_exporter": "python",
   "pygments_lexer": "ipython3",
   "version": "3.12.4"
  }
 },
 "nbformat": 4,
 "nbformat_minor": 5
}
