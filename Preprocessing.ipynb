{
 "cells": [
  {
   "cell_type": "markdown",
   "id": "46cea51c",
   "metadata": {},
   "source": [
    "# Preprocessing the Datasets\n"
   ]
  },
  {
   "cell_type": "markdown",
   "id": "2702b3d7",
   "metadata": {},
   "source": [
    "## Importing the Libraries"
   ]
  },
  {
   "cell_type": "code",
   "execution_count": 8,
   "id": "cf2a40b9",
   "metadata": {},
   "outputs": [],
   "source": [
    "import pandas as pd\n",
    "import os\n"
   ]
  },
  {
   "cell_type": "code",
   "execution_count": 24,
   "id": "0a6d297b",
   "metadata": {},
   "outputs": [],
   "source": [
    "# Load the uploaded TSV files\n",
    "extot_path = \"Datasets/Raw/estat_tour_dem_extot.tsv\"\n",
    "tnage_path = \"Datasets/Raw/estat_tour_dem_tnage.tsv\"\n",
    "ttsex_path = \"Datasets/Raw/estat_tour_dem_ttsex.tsv\"\n",
    "\n",
    "# Load first few rows of each dataset\n",
    "extot = pd.read_csv(extot_path, sep=\"\\t\")\n",
    "tnage = pd.read_csv(tnage_path, sep=\"\\t\")\n",
    "ttsex = pd.read_csv(ttsex_path, sep=\"\\t\")\n"
   ]
  },
  {
   "cell_type": "code",
   "execution_count": 33,
   "id": "d752dbdb",
   "metadata": {},
   "outputs": [
    {
     "data": {
      "text/plain": [
       "(  freq,purpose,duration,c_dest,expend,statinfo,unit,geo\\TIME_PERIOD   2012   \\\n",
       " 0                A,PER,N1-3,DOM,ACCOM,AVG_NGT,EUR,AL                     :    \n",
       " 1                A,PER,N1-3,DOM,ACCOM,AVG_NGT,EUR,AT                 66.02    \n",
       " 2                A,PER,N1-3,DOM,ACCOM,AVG_NGT,EUR,BE                 36.76    \n",
       " 3                A,PER,N1-3,DOM,ACCOM,AVG_NGT,EUR,BG                 4.58 b   \n",
       " 4                A,PER,N1-3,DOM,ACCOM,AVG_NGT,EUR,CH                 39.76    \n",
       " \n",
       "     2013    2014    2015    2016     2017    2018    2019    2020    2021   \\\n",
       " 0      :       :       :       :     2.38       :    3.88    9.51       :    \n",
       " 1  50.64   46.01   51.48   54.07    55.03   56.24   56.22   51.82   50.29    \n",
       " 2  39.50   37.12   37.13   34.41   39.76 b  34.96   37.88   37.23   40.52    \n",
       " 3   5.42    6.66    6.40    6.41     5.85    5.60    8.66    9.62   12.74    \n",
       " 4  47.91   46.39   53.58   52.03    53.80   52.26   55.43   60.78   70.47    \n",
       " \n",
       "     2022    2023   \n",
       " 0      :       :   \n",
       " 1  57.58   67.50   \n",
       " 2  44.16   48.16   \n",
       " 3  16.82   18.54   \n",
       " 4  72.51       :   ,\n",
       " ['freq,purpose,duration,c_dest,expend,statinfo,unit,geo\\\\TIME_PERIOD',\n",
       "  '2012 ',\n",
       "  '2013 ',\n",
       "  '2014 ',\n",
       "  '2015 ',\n",
       "  '2016 ',\n",
       "  '2017 ',\n",
       "  '2018 ',\n",
       "  '2019 ',\n",
       "  '2020 ',\n",
       "  '2021 ',\n",
       "  '2022 ',\n",
       "  '2023 '])"
      ]
     },
     "execution_count": 33,
     "metadata": {},
     "output_type": "execute_result"
    }
   ],
   "source": [
    "extot_head = extot.head()\n",
    "extot_cols = extot.columns.tolist()\n",
    "\n",
    "\n",
    "extot_head, extot_cols"
   ]
  },
  {
   "cell_type": "code",
   "execution_count": 31,
   "id": "0299f5da",
   "metadata": {},
   "outputs": [
    {
     "data": {
      "text/plain": [
       "(  freq,purpose,c_dest,duration,age,unit,geo\\TIME_PERIOD     2012      2013   \\\n",
       " 0                        A,PER,DOM,N1-3,Y15-24,NR,AL           :         :    \n",
       " 1                        A,PER,DOM,N1-3,Y15-24,NR,AT     1716783   1881068    \n",
       " 2                        A,PER,DOM,N1-3,Y15-24,NR,BE     194617 u   287394    \n",
       " 3                        A,PER,DOM,N1-3,Y15-24,NR,BG     989104 b   881981    \n",
       " 4                        A,PER,DOM,N1-3,Y15-24,NR,CH     958967 u  799593 u   \n",
       " \n",
       "       2014      2015       2016      2017      2018      2019       2020   \\\n",
       " 0        :         :          :    815878         :    773740     486390    \n",
       " 1  1711578   1577217    1956490   1837386   1871739   2044466    1543619    \n",
       " 2   194586    378535     214340   409604 b   520075    535349     513967    \n",
       " 3   691500    467668     475164    911906    733618    631363     352139    \n",
       " 4  694026 u  856549 u  1007354 u  666201 u  456367 u  898414 u  1169447 u   \n",
       " \n",
       "        2021       2022      2023   \n",
       " 0         :          :         :   \n",
       " 1   1889960    2886705   2207345   \n",
       " 2    698793     617141    507323   \n",
       " 3    457406     491589    563691   \n",
       " 4  1211978 u  1633178 u        :   ,\n",
       " ['freq,purpose,c_dest,duration,age,unit,geo\\\\TIME_PERIOD',\n",
       "  '2012 ',\n",
       "  '2013 ',\n",
       "  '2014 ',\n",
       "  '2015 ',\n",
       "  '2016 ',\n",
       "  '2017 ',\n",
       "  '2018 ',\n",
       "  '2019 ',\n",
       "  '2020 ',\n",
       "  '2021 ',\n",
       "  '2022 ',\n",
       "  '2023 '])"
      ]
     },
     "execution_count": 31,
     "metadata": {},
     "output_type": "execute_result"
    }
   ],
   "source": [
    "tnage_cols = tnage.columns.tolist()\n",
    "tnage_head = tnage.head()\n",
    "\n",
    "tnage_head, tnage_cols\n"
   ]
  },
  {
   "cell_type": "code",
   "execution_count": 32,
   "id": "36e6a173",
   "metadata": {},
   "outputs": [
    {
     "data": {
      "text/plain": [
       "(  freq,c_dest,purpose,duration,sex,unit,geo\\TIME_PERIOD      2012      2013   \\\n",
       " 0                             A,DOM,PER,N1-3,F,NR,AL            :         :    \n",
       " 1                             A,DOM,PER,N1-3,F,NR,AT      3155661   3417521    \n",
       " 2                             A,DOM,PER,N1-3,F,NR,BE       756712    907695    \n",
       " 3                             A,DOM,PER,N1-3,F,NR,BG     1029215 b   953716    \n",
       " 4                             A,DOM,PER,N1-3,F,NR,CH      2156668   2350827    \n",
       " \n",
       "       2014      2015      2016       2017      2018      2019      2020   \\\n",
       " 0        :         :         :    1213286         :   1424643    938050    \n",
       " 1  3616832   3465207   3716126    3505223   3874006   4113956   3406028    \n",
       " 2   742464   1152356    938572   1118499 b  1281495   1487201   1177284    \n",
       " 3   931887    703343    832847    1377737   1188827   1101915    610053    \n",
       " 4  2072561   2415184   1950026    2213164   1973983   2113764   2120157    \n",
       " \n",
       "       2021      2022      2023   \n",
       " 0        :         :         :   \n",
       " 1  3551574   4595712   5003122   \n",
       " 2  1953238   1735640   1763599   \n",
       " 3   838263   1048829   1045056   \n",
       " 4  2734816   2236541         :   ,\n",
       " ['freq,c_dest,purpose,duration,sex,unit,geo\\\\TIME_PERIOD',\n",
       "  '2012 ',\n",
       "  '2013 ',\n",
       "  '2014 ',\n",
       "  '2015 ',\n",
       "  '2016 ',\n",
       "  '2017 ',\n",
       "  '2018 ',\n",
       "  '2019 ',\n",
       "  '2020 ',\n",
       "  '2021 ',\n",
       "  '2022 ',\n",
       "  '2023 '])"
      ]
     },
     "execution_count": 32,
     "metadata": {},
     "output_type": "execute_result"
    }
   ],
   "source": [
    "ttsex_head = ttsex.head()\n",
    "ttsex_cols = ttsex.columns.tolist()\n",
    "\n",
    "ttsex_head, ttsex_cols\n"
   ]
  },
  {
   "cell_type": "code",
   "execution_count": 34,
   "id": "6c6071ed",
   "metadata": {},
   "outputs": [],
   "source": [
    "out_dir = \"Datasets/Processed\"\n",
    "os.makedirs(out_dir, exist_ok=True)"
   ]
  },
  {
   "cell_type": "code",
   "execution_count": 39,
   "id": "e435ba3f",
   "metadata": {},
   "outputs": [],
   "source": [
    "def preprocess(file_path, meta_cols, id_builder):\n",
    "    df = pd.read_csv(file_path, sep=\"\\t\")\n",
    "    \n",
    "    # Fix column names (strip spaces)\n",
    "    df.columns = df.columns.str.strip()\n",
    "    \n",
    "    # Split first column into metadata\n",
    "    parts = df[df.columns[0]].str.split(\",\", expand=True)\n",
    "    df[meta_cols] = parts.iloc[:, :len(meta_cols)]\n",
    "    \n",
    "    # Year columns (now clean)\n",
    "    year_cols = [c for c in df.columns if c.isdigit()]\n",
    "    \n",
    "    # Melt into long format\n",
    "    df_long = df.melt(\n",
    "        id_vars=meta_cols,\n",
    "        value_vars=year_cols,\n",
    "        var_name=\"year\",\n",
    "        value_name=\"value\"\n",
    "    )\n",
    "    \n",
    "    # Clean value column\n",
    "    df_long[\"value\"] = df_long[\"value\"].astype(str)\n",
    "    df_long[\"value\"] = df_long[\"value\"].str.replace(\":\", \"\", regex=False)\n",
    "    df_long[\"value\"] = df_long[\"value\"].str.replace(r\"[^\\d\\.\\-]\", \"\", regex=True)\n",
    "    df_long[\"value\"] = pd.to_numeric(df_long[\"value\"], errors=\"coerce\")\n",
    "    df_long = df_long.dropna(subset=[\"value\"])\n",
    "    \n",
    "    # Build trip_id\n",
    "    df_long[\"trip_id\"] = df_long.apply(id_builder, axis=1)\n",
    "    \n",
    "    return df_long\n"
   ]
  },
  {
   "cell_type": "code",
   "execution_count": 40,
   "id": "74375ed4",
   "metadata": {},
   "outputs": [],
   "source": [
    "# Define schemas\n",
    "extot_cols = ['freq','purpose','duration','c_dest','expend','statinfo','unit','geo']\n",
    "tnage_cols = ['freq','purpose','c_dest','duration','age','unit','geo']\n",
    "ttsex_cols = ['freq','c_dest','purpose','duration','sex','unit','geo']\n"
   ]
  },
  {
   "cell_type": "code",
   "execution_count": 41,
   "id": "bdfed468",
   "metadata": {},
   "outputs": [],
   "source": [
    "# Define ID builders\n",
    "extot_id = lambda row: f\"{row['year']}_{row['geo']}_{row['purpose']}_{row['duration']}\"\n",
    "tnage_id = lambda row: f\"{row['year']}_{row['geo']}_{row['purpose']}_{row['duration']}_{row['age']}\"\n",
    "ttsex_id = lambda row: f\"{row['year']}_{row['geo']}_{row['purpose']}_{row['duration']}_{row['sex']}\""
   ]
  },
  {
   "cell_type": "code",
   "execution_count": 42,
   "id": "2be54b25",
   "metadata": {},
   "outputs": [],
   "source": [
    "# Preprocess\n",
    "extot_clean = preprocess(extot_path, extot_cols, extot_id)\n",
    "tnage_clean = preprocess(tnage_path, tnage_cols, tnage_id)\n",
    "ttsex_clean = preprocess(ttsex_path, ttsex_cols, ttsex_id)"
   ]
  },
  {
   "cell_type": "code",
   "execution_count": 43,
   "id": "0165a187",
   "metadata": {},
   "outputs": [],
   "source": [
    "# Save\n",
    "extot_clean.to_csv(os.path.join(out_dir, \"extot_ready.csv\"), index=False)\n",
    "tnage_clean.to_csv(os.path.join(out_dir, \"tnage_ready.csv\"), index=False)\n",
    "ttsex_clean.to_csv(os.path.join(out_dir, \"ttsex_ready.csv\"), index=False)"
   ]
  },
  {
   "cell_type": "code",
   "execution_count": null,
   "id": "ad141ecf",
   "metadata": {},
   "outputs": [],
   "source": []
  }
 ],
 "metadata": {
  "kernelspec": {
   "display_name": "base",
   "language": "python",
   "name": "python3"
  },
  "language_info": {
   "codemirror_mode": {
    "name": "ipython",
    "version": 3
   },
   "file_extension": ".py",
   "mimetype": "text/x-python",
   "name": "python",
   "nbconvert_exporter": "python",
   "pygments_lexer": "ipython3",
   "version": "3.12.4"
  }
 },
 "nbformat": 4,
 "nbformat_minor": 5
}
